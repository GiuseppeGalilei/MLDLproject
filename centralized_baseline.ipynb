{
 "cells": [
  {
   "cell_type": "code",
   "execution_count": null,
   "metadata": {
    "_cell_guid": "b1076dfc-b9ad-4769-8c92-a6c4dae69d19",
    "_uuid": "8f2839f25d086af736a60e9eeb907d3b93b6e0e5",
    "execution": {
     "iopub.execute_input": "2022-04-29T07:41:36.371499Z",
     "iopub.status.busy": "2022-04-29T07:41:36.371170Z",
     "iopub.status.idle": "2022-04-29T07:41:38.117321Z",
     "shell.execute_reply": "2022-04-29T07:41:38.116446Z",
     "shell.execute_reply.started": "2022-04-29T07:41:36.371419Z"
    }
   },
   "outputs": [],
   "source": [
    "import torch\n",
    "import torch.nn as nn\n",
    "import torch.optim as optim\n",
    "import torch.nn.functional as F\n",
    "\n",
    "import torchvision\n",
    "import torchvision.transforms as transforms\n",
    "\n",
    "import os\n",
    "import argparse\n",
    "from tqdm import tqdm\n",
    "from models.resnet import ResNet50\n",
    "from utils.reproducibility import make_it_reproducible, seed_worker\n",
    "from utils.fedavg_utils import get_datasets"
   ]
  },
  {
   "cell_type": "code",
   "execution_count": null,
   "metadata": {
    "execution": {
     "iopub.execute_input": "2022-04-29T07:41:38.119073Z",
     "iopub.status.busy": "2022-04-29T07:41:38.118839Z",
     "iopub.status.idle": "2022-04-29T07:41:38.181786Z",
     "shell.execute_reply": "2022-04-29T07:41:38.181065Z",
     "shell.execute_reply.started": "2022-04-29T07:41:38.119040Z"
    }
   },
   "outputs": [],
   "source": [
    "device = 'cuda' if torch.cuda.is_available() else 'cpu'"
   ]
  },
  {
   "cell_type": "code",
   "execution_count": null,
   "metadata": {},
   "outputs": [],
   "source": [
    "# reproducibility\n",
    "seed = 0\n",
    "\n",
    "g = torch.Generator()\n",
    "g.manual_seed(seed)"
   ]
  },
  {
   "cell_type": "code",
   "execution_count": null,
   "metadata": {
    "execution": {
     "iopub.execute_input": "2022-04-29T07:41:38.183393Z",
     "iopub.status.busy": "2022-04-29T07:41:38.182875Z",
     "iopub.status.idle": "2022-04-29T07:41:38.191403Z",
     "shell.execute_reply": "2022-04-29T07:41:38.190598Z",
     "shell.execute_reply.started": "2022-04-29T07:41:38.183353Z"
    }
   },
   "outputs": [],
   "source": [
    "# setting parameters\n",
    "EPOCHS = 25"
   ]
  },
  {
   "cell_type": "code",
   "execution_count": null,
   "metadata": {
    "execution": {
     "iopub.execute_input": "2022-04-29T07:41:38.204922Z",
     "iopub.status.busy": "2022-04-29T07:41:38.204656Z"
    }
   },
   "outputs": [],
   "source": [
    "# datasets and loaders\n",
    "trainset, testset = get_datasets()\n",
    "trainloader = torch.utils.data.DataLoader(trainset,\n",
    "                                          batch_size=128, shuffle=True, num_workers=2,\n",
    "                                          worker_init_fn=seed_worker, generator=g)\n",
    "testloader = torch.utils.data.DataLoader(testset,\n",
    "                                         batch_size=100, shuffle=False, num_workers=2,\n",
    "                                         worker_init_fn=seed_worker, generator=g)"
   ]
  },
  {
   "cell_type": "code",
   "execution_count": null,
   "metadata": {},
   "outputs": [],
   "source": [
    "net = ResNet50()\n",
    "# net = ResNet50(\"Group Norm\")\n",
    "net = net.to(device)\n",
    "\n",
    "net.train()"
   ]
  },
  {
   "cell_type": "code",
   "execution_count": null,
   "metadata": {},
   "outputs": [],
   "source": [
    "criterion = nn.CrossEntropyLoss()\n",
    "optimizer = optim.SGD(net.parameters(),\n",
    "                      lr=0.1e-2, momentum=0.5)\n",
    "scheduler = torch.optim.lr_scheduler.MultiStepLR(optimizer=optimizer, milestones=[20,25], gamma=0.1)"
   ]
  },
  {
   "cell_type": "code",
   "execution_count": null,
   "metadata": {},
   "outputs": [],
   "source": [
    "make_it_reproducible(seed)\n",
    "\n",
    "accuracies = []\n",
    "losses = []"
   ]
  },
  {
   "cell_type": "code",
   "execution_count": null,
   "metadata": {},
   "outputs": [],
   "source": [
    "def train():\n",
    "    net.train()\n",
    "    train_loss = 0\n",
    "    correct = 0\n",
    "    total = 0\n",
    "    for batch_idx, (inputs, targets) in enumerate(trainloader):\n",
    "        inputs, targets = inputs.to(device), targets.to(device)\n",
    "        optimizer.zero_grad()\n",
    "        outputs = net(inputs)\n",
    "        loss = criterion(outputs, targets)\n",
    "        loss.backward()\n",
    "        optimizer.step()"
   ]
  },
  {
   "cell_type": "code",
   "execution_count": null,
   "metadata": {},
   "outputs": [],
   "source": [
    "def test():\n",
    "    net.eval()\n",
    "    test_loss = 0\n",
    "    correct = 0\n",
    "    total = 0\n",
    "    with torch.no_grad():\n",
    "        for batch_idx, (inputs, targets) in enumerate(testloader):\n",
    "            inputs, targets = inputs.to(device), targets.to(device)\n",
    "            outputs = net(inputs)\n",
    "            loss = criterion(outputs, targets)\n",
    "\n",
    "        test_loss = loss.item()\n",
    "        _, predicted = outputs.max(1)\n",
    "        total = targets.size(0)\n",
    "        correct = predicted.eq(targets).sum().item()\n",
    "        accuracies.append(correct/total)\n",
    "        losses.append(test_loss)"
   ]
  },
  {
   "cell_type": "code",
   "execution_count": null,
   "metadata": {},
   "outputs": [],
   "source": [
    "for epoch in tqdm(range(EPOCHS)):\n",
    "    train()\n",
    "    test()\n",
    "    scheduler.step()"
   ]
  }
 ],
 "metadata": {
  "kernelspec": {
   "display_name": "Python 3",
   "language": "python",
   "name": "python3"
  },
  "language_info": {
   "codemirror_mode": {
    "name": "ipython",
    "version": 3
   },
   "file_extension": ".py",
   "mimetype": "text/x-python",
   "name": "python",
   "nbconvert_exporter": "python",
   "pygments_lexer": "ipython3",
   "version": "3.8.8"
  }
 },
 "nbformat": 4,
 "nbformat_minor": 4
}
