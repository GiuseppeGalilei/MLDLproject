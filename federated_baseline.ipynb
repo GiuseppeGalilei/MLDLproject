{
 "cells": [
  {
   "cell_type": "code",
   "execution_count": null,
   "metadata": {},
   "outputs": [],
   "source": [
    "import os\n",
    "import copy\n",
    "import numpy as np\n",
    "from tqdm import tqdm\n",
    "import random\n",
    "\n",
    "import torch\n",
    "import torchvision\n",
    "import matplotlib.pyplot as plt\n",
    "from torchvision import transforms\n",
    "\n",
    "from models.resnet import ResNet50\n",
    "from utils.reproducibility import make_it_reproducible, seed_worker\n",
    "from utils.fedavg_utils import get_datasets, get_user_groups, average_weights\n",
    "from utils.fedavg_local import LocalUpdate"
   ]
  },
  {
   "cell_type": "code",
   "execution_count": null,
   "metadata": {},
   "outputs": [],
   "source": [
    "device = \"cuda\" if torch.cuda.is_available() else \"cpu\""
   ]
  },
  {
   "cell_type": "code",
   "execution_count": null,
   "metadata": {},
   "outputs": [],
   "source": [
    "# reproducibility\n",
    "seed = 0\n",
    "\n",
    "g = torch.Generator()\n",
    "g.manual_seed(seed)"
   ]
  },
  {
   "cell_type": "code",
   "execution_count": null,
   "metadata": {},
   "outputs": [],
   "source": [
    "# setting parameters\n",
    "ROUNDS = 30\n",
    "tot_users = 100\n",
    "selection_fraction = 0.1\n",
    "local_batch_size = 10\n",
    "local_epochs = 1\n",
    "iid = True\n",
    "unbalanced = False"
   ]
  },
  {
   "cell_type": "code",
   "execution_count": null,
   "metadata": {},
   "outputs": [],
   "source": [
    "# datasets and loaders\n",
    "trainset, testset = get_datasets()\n",
    "user_groups = get_user_groups(trainset, iid=iid, unbalanced=unbalanced, tot_users=tot_users)\n",
    "\n",
    "testloader = torch.utils.data.DataLoader(testset,\n",
    "                                         batch_size=128, shuffle=False, num_workers=2,\n",
    "                                         worker_init_fn=seed_worker, generator=g)"
   ]
  },
  {
   "cell_type": "code",
   "execution_count": null,
   "metadata": {},
   "outputs": [],
   "source": [
    "global_net = ResNet50()\n",
    "# global_net = ResNet50(\"Group Norm\")\n",
    "global_net.to(device)\n",
    "global_net.train()\n",
    "\n",
    "global_weights = global_net.state_dict()"
   ]
  },
  {
   "cell_type": "code",
   "execution_count": null,
   "metadata": {},
   "outputs": [],
   "source": [
    "train_loss, test_accuracy = [], []\n",
    "make_it_reproducible(seed)"
   ]
  },
  {
   "cell_type": "code",
   "execution_count": null,
   "metadata": {},
   "outputs": [],
   "source": [
    "for round in tqdm(range(ROUNDS)):\n",
    "    local_weights, local_losses = [], []\n",
    "\n",
    "    global_net.train()\n",
    "    m = max(int(selection_fraction * tot_users), 1)\n",
    "    selected_users = np.random.choice(range(tot_users), m, replace=False)\n",
    "\n",
    "    for idx in selected_users:\n",
    "        local_net = LocalUpdate(dataset=trainset, idxs=user_groups[idx], local_batch_size=local_batch_size,\\\n",
    "            local_epochs=local_epochs, worker_init_fn=seed_worker(seed), generator=g)\n",
    "        w, loss = local_net.update_weights(model=copy.deepcopy(global_net), global_round=round)\n",
    "        \n",
    "        local_weights.append(copy.deepcopy(w))\n",
    "        local_losses.append(copy.deepcopy(loss))\n",
    "    loss_avg = sum(local_losses) / len(local_losses)\n",
    "    train_loss.append(loss_avg)\n",
    "\n",
    "    global_weights = average_weights(local_weights)\n",
    "    global_net.load_state_dict(global_weights)\n",
    "\n",
    "    global_net.eval()\n",
    "    total, correct = 0, 0 \n",
    "    with torch.no_grad():\n",
    "        for x, y in testloader:\n",
    "            x, y = x.to(device), y.to(device)\n",
    "            yhat = global_net(x)\n",
    "            _, predicted = torch.max(yhat.data, 1)\n",
    "            total += y.size(0)\n",
    "            correct += (predicted == y).sum().item()\n",
    "    test_accuracy.append(correct / total)\n",
    "\n",
    "    print(f\"\\nAt round {round+1} we had: test_accuracy={correct/total} and average_local_loss={train_loss[-1]}\")"
   ]
  }
 ],
 "metadata": {
  "kernelspec": {
   "display_name": "Python 3",
   "language": "python",
   "name": "python3"
  },
  "language_info": {
   "codemirror_mode": {
    "name": "ipython",
    "version": 3
   },
   "file_extension": ".py",
   "mimetype": "text/x-python",
   "name": "python",
   "nbconvert_exporter": "python",
   "pygments_lexer": "ipython3",
   "version": "3.8.8"
  }
 },
 "nbformat": 4,
 "nbformat_minor": 2
}
