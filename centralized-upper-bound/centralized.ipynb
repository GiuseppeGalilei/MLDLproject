{
 "cells": [
  {
   "cell_type": "code",
   "execution_count": 1,
   "id": "ba2b2402",
   "metadata": {},
   "outputs": [],
   "source": [
    "import torch\n",
    "import torchvision\n",
    "\n",
    "import torch.nn as nn\n",
    "import matplotlib.pyplot as plt\n",
    "import numpy as np\n",
    "import pandas as pd\n",
    "import seaborn as sns\n",
    "\n",
    "from torch.utils.data import DataLoader\n",
    "from torchvision.transforms import Compose, ToTensor, RandomResizedCrop, RandomHorizontalFlip, Normalize\n",
    "from torchvision.datasets import CIFAR10\n",
    "from sklearn.model_selection import ParameterGrid\n",
    "from tqdm import tqdm"
   ]
  },
  {
   "cell_type": "code",
   "execution_count": null,
   "id": "bdb6df92",
   "metadata": {},
   "outputs": [],
   "source": [
    "if torch.cuda.is_available():\n",
    "    device = torch.device(\"cuda:0\")\n",
    "else:\n",
    "    device = torch.device(\"cpu\")"
   ]
  },
  {
   "cell_type": "code",
   "execution_count": null,
   "id": "5e40dc08",
   "metadata": {},
   "outputs": [],
   "source": [
    "EPOCHS = 25"
   ]
  },
  {
   "cell_type": "markdown",
   "id": "f4e06b31",
   "metadata": {},
   "source": [
    "# Dataset load"
   ]
  },
  {
   "cell_type": "code",
   "execution_count": null,
   "id": "0cf8dfcf",
   "metadata": {},
   "outputs": [],
   "source": [
    "train_ds = CIFAR10(\"/cifar\", train=True, download=True,\\\n",
    "                   transform=Compose([\n",
    "                        ToTensor(),\n",
    "                        RandomResizedCrop(size=32),\n",
    "                        RandomHorizontalFlip(),\n",
    "                        Normalize(mean=(0.4914, 0.4822, 0.4465), std=(0.2023, 0.1994, 0.2010))\n",
    "                    ]))\n",
    "test_ds = CIFAR10(\"/cifar\", train=True, download=True,\\\n",
    "                  transform=Compose([\n",
    "                        ToTensor(),\n",
    "                        Normalize(mean=(0.4914, 0.4822, 0.4465), std=(0.2023, 0.1994, 0.2010))\n",
    "                    ]))"
   ]
  },
  {
   "cell_type": "markdown",
   "id": "b814a852",
   "metadata": {},
   "source": [
    "# Utils"
   ]
  },
  {
   "cell_type": "code",
   "execution_count": null,
   "id": "916d7d30",
   "metadata": {},
   "outputs": [],
   "source": [
    "def get_accuracy(model, test_dl):\n",
    "    total = 0\n",
    "    correct = 0\n",
    "\n",
    "    with torch.no_grad():\n",
    "        for data in test_dl:\n",
    "            inputs, labels = data\n",
    "            inputs, labels = inputs.to(device), labels.to(device)\n",
    "\n",
    "            outputs = rn50(inputs)\n",
    "\n",
    "            _, predicted = torch.max(outputs.data, 1)\n",
    "            total += labels.size(0)\n",
    "            correct += (predicted == labels).sum().item()\n",
    "\n",
    "    return correct / total"
   ]
  },
  {
   "cell_type": "markdown",
   "id": "c57c4bf3",
   "metadata": {},
   "source": [
    "# Batch normalization"
   ]
  },
  {
   "cell_type": "markdown",
   "id": "64669ec0",
   "metadata": {},
   "source": [
    "## Batch size"
   ]
  },
  {
   "cell_type": "code",
   "execution_count": null,
   "id": "3e60077d",
   "metadata": {},
   "outputs": [],
   "source": [
    "df_batch = pd.DataFrame(columns=[\"acc\", \"batch_size\"])"
   ]
  },
  {
   "cell_type": "code",
   "execution_count": null,
   "id": "1c0eebc7",
   "metadata": {},
   "outputs": [],
   "source": [
    "loss_fn = nn.CrossEntropyLoss()\n",
    "\n",
    "for batch_size in tqdm([128, 256, 512]):\n",
    "    train_dl = DataLoader(train_ds, batch_size=batch_size, num_workers=2)\n",
    "    test_dl = DataLoader(test_ds, batch_size=batch_size, num_workers=2)\n",
    "\n",
    "    rn50 = torch.hub.load(\"pytorch/vision:v0.10.0\", \"resnet50\", pretrained=False).to(device)\n",
    "    optimizer = torch.optim.Adam(rn50.parameters())\n",
    "    torch.manual_seed(20)\n",
    "    \n",
    "    for _ in range(EPOCHS):\n",
    "        for data in train_dl:\n",
    "            inputs, labels = data\n",
    "            inputs, labels = inputs.to(device), labels.to(device)\n",
    "            optimizer.zero_grad()\n",
    "            outputs = rn50(inputs)\n",
    "            loss = loss_fn(outputs, labels)\n",
    "            loss.backward()\n",
    "            optimizer.step()\n",
    "            \n",
    "    df_batch.loc[len(df_batch)] = [get_accuracy(rn50, test_dl), batch_size]"
   ]
  },
  {
   "cell_type": "code",
   "execution_count": null,
   "id": "8b454dc7",
   "metadata": {},
   "outputs": [],
   "source": [
    "df_batch.to_csv(\"batchsize_comp.csv\")"
   ]
  },
  {
   "cell_type": "code",
   "execution_count": 2,
   "id": "c2104f7f",
   "metadata": {},
   "outputs": [
    {
     "data": {
      "text/plain": [
       "<matplotlib.collections.PathCollection at 0x1fb684806d0>"
      ]
     },
     "execution_count": 2,
     "metadata": {},
     "output_type": "execute_result"
    },
    {
     "data": {
      "image/png": "[encoded data removed]",
      "text/plain": [
       "<Figure size 432x288 with 1 Axes>"
      ]
     },
     "metadata": {
      "needs_background": "light"
     },
     "output_type": "display_data"
    }
   ],
   "source": [
    "df_batch = pd.read_csv(\"batchsize_comp.csv\")\n",
    "plt.scatter(df_batch[\"batch_size\"], df_batch[\"acc\"])"
   ]
  },
  {
   "cell_type": "markdown",
   "id": "745687f5",
   "metadata": {},
   "source": [
    "## Optimizer"
   ]
  },
  {
   "cell_type": "code",
   "execution_count": null,
   "id": "bf9520e4",
   "metadata": {},
   "outputs": [],
   "source": [
    "best_batch_size =  256\n",
    "\n",
    "train_dl = DataLoader(train_ds, batch_size=best_batch_size, num_workers=2)\n",
    "test_dl = DataLoader(test_ds, batch_size=best_batch_size, num_workers=2)"
   ]
  },
  {
   "cell_type": "code",
   "execution_count": null,
   "id": "d5d12fa9",
   "metadata": {},
   "outputs": [],
   "source": [
    "df_optim = pd.DataFrame(columns=[\"acc\", \"optim\", \"config\"])"
   ]
  },
  {
   "cell_type": "markdown",
   "id": "b28dc8ca",
   "metadata": {},
   "source": [
    "### Adam"
   ]
  },
  {
   "cell_type": "code",
   "execution_count": null,
   "id": "85eabba0",
   "metadata": {},
   "outputs": [],
   "source": [
    "params = {\n",
    "    \"lr\": [1e-2, 1e-3],\n",
    "    \"weight_decay\": [1e-3, 1e-4, 1e-5]\n",
    "}"
   ]
  },
  {
   "cell_type": "code",
   "execution_count": null,
   "id": "03944bd9",
   "metadata": {},
   "outputs": [],
   "source": [
    "loss_fn = nn.CrossEntropyLoss()\n",
    "\n",
    "for param in tqdm(ParameterGrid(params)):\n",
    "    rn50 = torch.hub.load(\"pytorch/vision:v0.10.0\", \"resnet50\", pretrained=False).to(device)\n",
    "    optimizer = torch.optim.Adam(rn50.parameters(), lr=param[\"lr\"], weight_decay=param[\"weight_decay\"]) \n",
    "    torch.manual_seed(20)\n",
    "    \n",
    "    for _ in range(EPOCHS):\n",
    "        for data in train_dl:\n",
    "            inputs, labels = data\n",
    "            inputs, labels = inputs.to(device), labels.to(device)\n",
    "            optimizer.zero_grad()\n",
    "            outputs = rn50(inputs)\n",
    "            loss = loss_fn(outputs, labels)\n",
    "            loss.backward()\n",
    "            optimizer.step()\n",
    "            \n",
    "    df_optim.loc[len(df_optim)] = [get_accuracy(rn50, test_dl), \"adam\", str(param)]"
   ]
  },
  {
   "cell_type": "markdown",
   "id": "b6434fa9",
   "metadata": {},
   "source": [
    "### SGD"
   ]
  },
  {
   "cell_type": "code",
   "execution_count": null,
   "id": "15d4ef8c",
   "metadata": {},
   "outputs": [],
   "source": [
    "params = {\n",
    "    \"lr\": [1e-2, 1e-3],\n",
    "    \"weight_decay\": [1e-3, 1e-4, 1e-5],\n",
    "    \"momentum\": [0, 0.9]\n",
    "}"
   ]
  },
  {
   "cell_type": "code",
   "execution_count": null,
   "id": "388fb8f8",
   "metadata": {},
   "outputs": [],
   "source": [
    "loss_fn = nn.CrossEntropyLoss()\n",
    "\n",
    "for param in tqdm(ParameterGrid(params)):\n",
    "    rn50 = torch.hub.load(\"pytorch/vision:v0.10.0\", \"resnet50\", pretrained=False).to(device)\n",
    "    optimizer = torch.optim.SGD(rn50.parameters(), lr=param[\"lr\"], weight_decay=param[\"weight_decay\"], momentum=param[\"momentum\"])\n",
    "    torch.manual_seed(20)\n",
    "    \n",
    "    for _ in range(EPOCHS):\n",
    "        for data in train_dl:\n",
    "            inputs, labels = data\n",
    "            inputs, labels = inputs.to(device), labels.to(device)\n",
    "            optimizer.zero_grad()\n",
    "            outputs = rn50(inputs)\n",
    "            loss = loss_fn(outputs, labels)\n",
    "            loss.backward()\n",
    "            optimizer.step()\n",
    "            \n",
    "    df_optim.loc[len(df_optim)] = [get_accuracy(rn50, test_dl), \"sgd\", str(param)]"
   ]
  },
  {
   "cell_type": "code",
   "execution_count": null,
   "id": "8723c606",
   "metadata": {},
   "outputs": [],
   "source": [
    "df_optim.to_csv(\"optim_comp.csv\")"
   ]
  },
  {
   "cell_type": "code",
   "execution_count": null,
   "id": "e73eb0ea",
   "metadata": {},
   "outputs": [],
   "source": [
    "df_optim = pd.read_csv(\"optim_comp.csv\")\n",
    "sns.boxplot(x=\"soptim\", y=\"acc\", data=df_optim)"
   ]
  },
  {
   "cell_type": "markdown",
   "id": "bcf3fbed",
   "metadata": {},
   "source": [
    "## Scheduler"
   ]
  },
  {
   "cell_type": "code",
   "execution_count": null,
   "id": "3e2d5708",
   "metadata": {},
   "outputs": [],
   "source": [
    "best_lr =  # TODO\n",
    "best_weight_decay =  # TODO\n",
    "best_momentum =  # TODO if needed"
   ]
  },
  {
   "cell_type": "code",
   "execution_count": null,
   "id": "6b0a1193",
   "metadata": {},
   "outputs": [],
   "source": [
    "df_sched = pd.DataFrame(columns=[\"acc\", \"sched\", \"config\"])"
   ]
  },
  {
   "cell_type": "markdown",
   "id": "1e327cfb",
   "metadata": {},
   "source": [
    "### OneCycleLR"
   ]
  },
  {
   "cell_type": "code",
   "execution_count": null,
   "id": "ee948409",
   "metadata": {},
   "outputs": [],
   "source": [
    "params = {\n",
    "    \"max_lr\": [1e-2, 5e-3],\n",
    "    \"total_steps\": [EPOCHS],\n",
    "    \"pct_start\": [0.2, 0.3],\n",
    "    \"cycle_momentum\": [],  # TODO [True, False] if SGD, [False] if adam\n",
    "    \"div_factor\": [5, 10],\n",
    "    \"final_div_factor\": [5, 10]\n",
    "}"
   ]
  },
  {
   "cell_type": "code",
   "execution_count": null,
   "id": "fa448d7f",
   "metadata": {},
   "outputs": [],
   "source": [
    "loss_fn = nn.CrossEntropyLoss()\n",
    "\n",
    "for param in tqdm(ParameterGrid(params)):\n",
    "    rn50 = torch.hub.load(\"pytorch/vision:v0.10.0\", \"resnet50\", pretrained=False).to(device)\n",
    "    # TODO\n",
    "#     optimizer = torch.optim.Adam(rn50.parameters(), lr=best_lr, weight_decay=best_weight_decay)\n",
    "#     optimizer = torch.optim.SGD(rn50.parameters(), lr=best_lr, weight_decay=best_weight_decay, momentum=best_momentum)\n",
    "    scheduler = torch.optim.lr_scheduler.OneCycleLR(optimizer, max_lr=param[\"max_lr\"], total_steps=param[\"total_steps\"],\n",
    "                                                   pct_start=param[\"pct_start\"], cycle_momentum=param[\"cycle_momentum\"],\n",
    "                                                   div_factor=param[\"div_factor\"], final_div_factor=param[\"final_div_factor\"])\n",
    "    torch.manual_seed(20)\n",
    "    \n",
    "    for _ in range(EPOCHS):\n",
    "        for data in train_dl:\n",
    "            inputs, labels = data\n",
    "            inputs, labels = inputs.to(device), labels.to(device)\n",
    "            optimizer.zero_grad()\n",
    "            outputs = rn50(inputs)\n",
    "            loss = loss_fn(outputs, labels)\n",
    "            loss.backward()\n",
    "            optimizer.step()\n",
    "        scheduler.step()\n",
    "            \n",
    "    df_sched.loc[len(df_sched)] = [get_accuracy(rn50, test_dl), \"1clr\", str(param)]"
   ]
  },
  {
   "cell_type": "markdown",
   "id": "97d57957",
   "metadata": {},
   "source": [
    "### ExponentialLR"
   ]
  },
  {
   "cell_type": "code",
   "execution_count": null,
   "id": "01b6f55c",
   "metadata": {},
   "outputs": [],
   "source": [
    "params = {\n",
    "    \"gamma\": [0.95, 0.9]\n",
    "}"
   ]
  },
  {
   "cell_type": "code",
   "execution_count": null,
   "id": "99466410",
   "metadata": {},
   "outputs": [],
   "source": [
    "loss_fn = nn.CrossEntropyLoss()\n",
    "\n",
    "for param in tqdm(ParameterGrid(params)):\n",
    "    rn50 = torch.hub.load(\"pytorch/vision:v0.10.0\", \"resnet50\", pretrained=False).to(device)\n",
    "    # TODO\n",
    "#     optimizer = torch.optim.Adam(rn50.parameters(), lr=best_lr, weight_decay=best_weight_decay)\n",
    "#     optimizer = torch.optim.SGD(rn50.parameters(), lr=best_lr, weight_decay=best_weight_decay, momentum=best_momentum)\n",
    "    scheduler = torch.optim.lr_scheduler.ExponentialLR(optimizer, gamma=param[\"gamma\"])\n",
    "    torch.manual_seed(20)\n",
    "    \n",
    "    for _ in range(EPOCHS):\n",
    "        for data in train_dl:\n",
    "            inputs, labels = data\n",
    "            inputs, labels = inputs.to(device), labels.to(device)\n",
    "            optimizer.zero_grad()\n",
    "            outputs = rn50(inputs)\n",
    "            loss = loss_fn(outputs, labels)\n",
    "            loss.backward()\n",
    "            optimizer.step()\n",
    "        scheduler.step()\n",
    "            \n",
    "    df_sched.loc[len(df_sched)] = [get_accuracy(rn50, test_dl), \"exp\", str(param)]"
   ]
  },
  {
   "cell_type": "code",
   "execution_count": null,
   "id": "c1bc89f0",
   "metadata": {},
   "outputs": [],
   "source": [
    "df_sched.to_csv(\"sched_comp.csv\")"
   ]
  },
  {
   "cell_type": "code",
   "execution_count": null,
   "id": "6143a6d4",
   "metadata": {},
   "outputs": [],
   "source": [
    "df_sched = pd.read_csv(\"sched_comp.csv\")\n",
    "sns.boxplot(x=\"sched\", y=\"acc\", data=df_sched)"
   ]
  },
  {
   "cell_type": "markdown",
   "id": "6925d2a5",
   "metadata": {},
   "source": [
    "## Gradient clipping"
   ]
  },
  {
   "cell_type": "code",
   "execution_count": null,
   "id": "bab5aa4f",
   "metadata": {},
   "outputs": [],
   "source": [
    "best_max_lr =  # TODO if needed\n",
    "best_total_steps =  # TODO if needed\n",
    "best_pct_start =  # TODO if needed\n",
    "best_cycle_momentum =  # TODO if needed\n",
    "best_div_factor =  # TODO if needed\n",
    "best_final_div_factor =  # TODO if needed\n",
    "best_gamma =  # TODO if needed"
   ]
  },
  {
   "cell_type": "code",
   "execution_count": null,
   "id": "11dcebca",
   "metadata": {},
   "outputs": [],
   "source": [
    "df_clip = pd.DataFrame(columns=[\"acc\", \"clip_value\"])"
   ]
  },
  {
   "cell_type": "code",
   "execution_count": null,
   "id": "c7f829ea",
   "metadata": {},
   "outputs": [],
   "source": [
    "loss_fn = nn.CrossEntropyLoss()\n",
    "\n",
    "for clip_value in tqdm([1, 1e-1, 1e-3, 1e-4]):\n",
    "    rn50 = torch.hub.load(\"pytorch/vision:v0.10.0\", \"resnet50\", pretrained=False).to(device)\n",
    "    # TODO\n",
    "#     optimizer = torch.optim.Adam(rn50.parameters(), lr=best_lr, weight_decay=best_weight_decay)\n",
    "#     optimizer = torch.optim.SGD(rn50.parameters(), lr=best_lr, weight_decay=best_weight_decay, momentum=best_momentum)\n",
    "    \n",
    "    # TODO\n",
    "#     scheduler = torch.optim.lr_scheduler.OneCycleLR(optimizer, max_lr=best_max_lr, total_steps=best_total_steps,\n",
    "#                                                    pct_start=best_pct_start, cycle_momentum=best_cycle_momentum,\n",
    "#                                                    div_factor=best_div_factor, final_div_factor=best_final_div_factor)\n",
    "#     scheduler = torch.optim.lr_scheduler.ExponentialLR(optimizer, gamma=best_gamma)\n",
    "    torch.manual_seed(20)\n",
    "    \n",
    "    for _ in range(EPOCHS):\n",
    "        for data in train_dl:\n",
    "            inputs, labels = data\n",
    "            inputs, labels = inputs.to(device), labels.to(device)\n",
    "            optimizer.zero_grad()\n",
    "            outputs = rn50(inputs)\n",
    "            loss = loss_fn(outputs, labels)\n",
    "            loss.backward()\n",
    "            nn.utils.clip_grad_value_(rn50.parameters(), clip_value)\n",
    "            optimizer.step()\n",
    "        scheduler.step()\n",
    "            \n",
    "    df_clip.loc[len(df_clip)] = [get_accuracy(rn50, test_dl), clip_value]"
   ]
  },
  {
   "cell_type": "code",
   "execution_count": null,
   "id": "741db082",
   "metadata": {},
   "outputs": [],
   "source": [
    "df_clip.to_csv(\"clip_com.csv\")"
   ]
  },
  {
   "cell_type": "code",
   "execution_count": null,
   "id": "25769595",
   "metadata": {},
   "outputs": [],
   "source": [
    "df_clip = pd.read_csv(\"clip_comp.csv\")\n",
    "plt.scatter(df_clip[\"clip_value\"], df_clip[\"acc\"])\n",
    "plt.xscale(\"log\")"
   ]
  }
 ],
 "metadata": {
  "kernelspec": {
   "display_name": "PyCharm (pythonProject)",
   "language": "python",
   "name": "pycharm-76f57e90"
  },
  "language_info": {
   "codemirror_mode": {
    "name": "ipython",
    "version": 3
   },
   "file_extension": ".py",
   "mimetype": "text/x-python",
   "name": "python",
   "nbconvert_exporter": "python",
   "pygments_lexer": "ipython3",
   "version": "3.8.8"
  }
 },
 "nbformat": 4,
 "nbformat_minor": 5
}
