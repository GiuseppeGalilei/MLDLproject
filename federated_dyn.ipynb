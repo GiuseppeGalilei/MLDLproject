{
 "cells": [
  {
   "cell_type": "code",
   "execution_count": null,
   "metadata": {},
   "outputs": [],
   "source": [
    "import torch\n",
    "import numpy as np\n",
    "import pandas as pd\n",
    "\n",
    "from models.resnet import ResNet50\n",
    "from utils.datasets import get_datasets\n",
    "from utils.sampling import get_user_groups\n",
    "from feddyn.components import FedDynServer, FedDynClient"
   ]
  },
  {
   "cell_type": "code",
   "execution_count": null,
   "metadata": {},
   "outputs": [],
   "source": [
    "device = 'cuda' if torch.cuda.is_available else 'cpu'"
   ]
  },
  {
   "cell_type": "code",
   "execution_count": null,
   "metadata": {},
   "outputs": [],
   "source": [
    "seed = 0  # 128, 479"
   ]
  },
  {
   "cell_type": "code",
   "execution_count": null,
   "metadata": {},
   "outputs": [],
   "source": [
    "# setting parameters\n",
    "client_number = 100\n",
    "participation_frac = 0.1\n",
    "ROUNDS = 3\n",
    "alpha = 0.01\n",
    "lr = 1e-2\n",
    "local_epochs = 5"
   ]
  },
  {
   "cell_type": "code",
   "execution_count": null,
   "metadata": {},
   "outputs": [],
   "source": [
    "metric = []\n",
    "\n",
    "iid = True\n",
    "unbalanced = False\n",
    "norm = \"Batch Norm\"\n",
    "\n",
    "trainset, testset = get_datasets(augmentation=True)\n",
    "\n",
    "# server, reproducibility demanded to the server\n",
    "server = FedDynServer(ResNet50(), alpha, client_number, device, testset, seed)\n",
    "\n",
    "# clients\n",
    "client_model = ResNet50()\n",
    "clients = []\n",
    "user_groups, _ = get_user_groups(trainset, iid=iid, unbalanced=unbalanced, tot_users=client_number)\n",
    "for idx in range(client_number):\n",
    "    clients.append(FedDynClient(client_model, device, lr, alpha, idx, local_epochs, trainset, user_groups[idx]))\n",
    "\n",
    "for round in range(ROUNDS):\n",
    "    print(\"Communication round: \", round+1)\n",
    "    m = max(int(participation_frac*client_number), 1)\n",
    "    active_users = np.random.choice(range(client_number), m, replace=False)\n",
    "    print(f\"Chosen users: {active_users}\")\n",
    "\n",
    "    act_server_state = server.get_server_state()\n",
    "    active_clients_params = []\n",
    "    for idx in active_users:\n",
    "        client_params, metrics = clients[idx].train(act_server_state, round)\n",
    "        active_clients_params.append(client_params)\n",
    "\n",
    "    server.update_model(active_clients_params)\n",
    "    server.evaluate(round)\n",
    "\n",
    "test_metrics = server.get_test_metrics()\n",
    "print(test_metrics)"
   ]
  }
 ],
 "metadata": {
  "language_info": {
   "name": "python"
  },
  "orig_nbformat": 4
 },
 "nbformat": 4,
 "nbformat_minor": 2
}
