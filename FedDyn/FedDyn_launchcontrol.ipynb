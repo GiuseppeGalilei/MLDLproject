{
  "nbformat": 4,
  "nbformat_minor": 0,
  "metadata": {
    "colab": {
      "name": "FedDyn_launchcontrol.ipynb",
      "provenance": [],
      "authorship_tag": "ABX9TyMcM52d0ke9s3sgck1bDnl2"
    },
    "kernelspec": {
      "name": "python3",
      "display_name": "Python 3"
    },
    "language_info": {
      "name": "python"
    }
  },
  "cells": [
    {
      "cell_type": "code",
      "execution_count": null,
      "metadata": {
        "id": "eC4nBhQYY839"
      },
      "outputs": [],
      "source": [
        ""
      ]
    }
  ]
}