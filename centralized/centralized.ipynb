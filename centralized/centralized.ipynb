{
 "cells": [
  {
   "cell_type": "code",
   "execution_count": 1,
   "id": "0fb81e00",
   "metadata": {},
   "outputs": [],
   "source": [
    "import torch\n",
    "import torch.nn as nn\n",
    "import torch.optim as optim\n",
    "import torch.functional as F\n",
    "\n",
    "import torchvision\n",
    "import torchvision.transforms as T\n",
    "from torchvision.datasets import CIFAR10\n",
    "\n",
    "import pandas as pd\n",
    "import numpy as np\n",
    "import matplotlib.pyplot as plt\n",
    "import seaborn as sns\n",
    "\n",
    "from resnetgn import resnet50gn\n",
    "from tqdm import tqdm\n",
    "from sklearn.model_selection import ParameterGrid"
   ]
  },
  {
   "cell_type": "code",
   "execution_count": null,
   "id": "c7b66f7c",
   "metadata": {},
   "outputs": [],
   "source": [
    "device = \"cuda\" if torch.cuda.is_available() else \"cpu\""
   ]
  },
  {
   "cell_type": "code",
   "execution_count": null,
   "id": "4a92320a",
   "metadata": {},
   "outputs": [],
   "source": [
    "EPOCHS = 25"
   ]
  },
  {
   "cell_type": "markdown",
   "id": "cce27456",
   "metadata": {},
   "source": [
    "## Data sets"
   ]
  },
  {
   "cell_type": "code",
   "execution_count": null,
   "id": "389975b8",
   "metadata": {},
   "outputs": [],
   "source": [
    "train_ds = CIFAR10(\"/cifar\", train=True, download=True,\\\n",
    "                   transform=T.Compose([\n",
    "                        T.ToTensor(),\n",
    "                        T.RandomResizedCrop(size=32),\n",
    "                        T.RandomHorizontalFlip(),\n",
    "                        T.Normalize(mean=(0.4914, 0.4822, 0.4465), std=(0.2023, 0.1994, 0.2010))\n",
    "                    ]))\n",
    "test_ds = CIFAR10(\"/cifar\", train=True, download=True,\\\n",
    "                  transform=T.Compose([\n",
    "                        T.ToTensor(),\n",
    "                        T.Normalize(mean=(0.4914, 0.4822, 0.4465), std=(0.2023, 0.1994, 0.2010))\n",
    "                    ]))\n",
    "\n",
    "train_dl = torch.utils.data.DataLoader(train_ds, batch_size=512, shuffle=True, num_workers=2)\n",
    "test_dl = torch.utils.data.DataLoader(test_ds, batch_size=512, shuffle=False, num_workers=2)"
   ]
  },
  {
   "cell_type": "markdown",
   "id": "b7f11de1",
   "metadata": {},
   "source": [
    "## Utils"
   ]
  },
  {
   "cell_type": "code",
   "execution_count": null,
   "id": "66fd7ba0",
   "metadata": {},
   "outputs": [],
   "source": [
    "def test_accuracy(model, loader, device):\n",
    "    total = 0\n",
    "    correct = 0\n",
    "    with torch.no_grad():\n",
    "        for data in loader:\n",
    "            i, l = data\n",
    "            i, l = i.to(device), l.to(device)\n",
    "            o = model(i)\n",
    "            \n",
    "            _, predicted = torch.max(o.data, 1)\n",
    "            total += l.size(0)\n",
    "            correct += (predicted == l).sum().item()\n",
    "\n",
    "    return correct / total"
   ]
  },
  {
   "cell_type": "code",
   "execution_count": null,
   "id": "df864021",
   "metadata": {},
   "outputs": [],
   "source": [
    "def get_parameters_cnt(model):\n",
    "    return sum(p.numel() for p in model.parameters())"
   ]
  },
  {
   "cell_type": "markdown",
   "id": "ec34d708",
   "metadata": {},
   "source": [
    "# Batch normalization (BN)"
   ]
  },
  {
   "cell_type": "code",
   "execution_count": null,
   "id": "e822e3eb",
   "metadata": {},
   "outputs": [],
   "source": [
    "get_parameters_cnt(torch.hub.load(\"pytorch/vision:v0.10.0\", \"resnet50\", pretrained=False).to(device))"
   ]
  },
  {
   "cell_type": "markdown",
   "id": "15dd4c1a",
   "metadata": {},
   "source": [
    "## LR range\n",
    "\n",
    "https://arxiv.org/pdf/1506.01186.pdf  par 3.3"
   ]
  },
  {
   "cell_type": "code",
   "execution_count": null,
   "id": "9b5b9b99",
   "metadata": {},
   "outputs": [],
   "source": [
    "df_lr_range = pd.DataFrame(columns=[\"optim\", \"lr\", \"loss\"])"
   ]
  },
  {
   "cell_type": "markdown",
   "id": "408486f6",
   "metadata": {},
   "source": [
    "### SGD"
   ]
  },
  {
   "cell_type": "code",
   "execution_count": null,
   "id": "79b59f81",
   "metadata": {},
   "outputs": [],
   "source": [
    "loss_fn = nn.CrossEntropyLoss()\n",
    "\n",
    "rn50 = torch.hub.load(\"pytorch/vision:v0.10.0\", \"resnet50\", pretrained=False).to(device)\n",
    "optimizer = optim.SGD(rn50.parameters(), lr=1e-6)\n",
    "scheduler = optim.lr_scheduler.ExponentialLR(optimizer, gamma=1.01)\n",
    "torch.manual_seed(20)\n",
    "for _ in tqdm(range(15)):\n",
    "    for data in train_dl:\n",
    "        i, l = data\n",
    "        i, l = i.to(device), l.to(device)\n",
    "        optimizer.zero_grad()\n",
    "        o = rn50(i)\n",
    "        loss = loss_fn(o, l)\n",
    "        loss.backward()\n",
    "        optimizer.step()\n",
    "        \n",
    "        df_lr_range.loc[len(df_lr_range)] = [\"sgd\", scheduler.get_last_lr()[0], loss.item()]\n",
    "        \n",
    "        scheduler.step()"
   ]
  },
  {
   "cell_type": "markdown",
   "id": "fb52c4a1",
   "metadata": {},
   "source": [
    "### Adam"
   ]
  },
  {
   "cell_type": "code",
   "execution_count": null,
   "id": "d6541eeb",
   "metadata": {},
   "outputs": [],
   "source": [
    "loss_fn = nn.CrossEntropyLoss()\n",
    "\n",
    "rn50 = torch.hub.load(\"pytorch/vision:v0.10.0\", \"resnet50\", pretrained=False).to(device)\n",
    "optimizer = optim.Adam(rn50.parameters(), lr=1e-6, weight_decay=0)\n",
    "scheduler = optim.lr_scheduler.ExponentialLR(optimizer, gamma=1.01)\n",
    "torch.manual_seed(20)\n",
    "for _ in tqdm(range(15)):\n",
    "    for data in train_dl:\n",
    "        i, l = data\n",
    "        i, l = i.to(device), l.to(device)\n",
    "        optimizer.zero_grad()\n",
    "        o = rn50(i)\n",
    "        loss = loss_fn(o, l)\n",
    "        loss.backward()\n",
    "        optimizer.step()\n",
    "        \n",
    "        df_lr_range.loc[len(df_lr_range)] = [\"adam\", scheduler.get_last_lr()[0], loss.item()]\n",
    "        \n",
    "        scheduler.step()"
   ]
  },
  {
   "cell_type": "markdown",
   "id": "b14539fc",
   "metadata": {},
   "source": [
    "### Comparison"
   ]
  },
  {
   "cell_type": "code",
   "execution_count": null,
   "id": "bcd1107d",
   "metadata": {},
   "outputs": [],
   "source": [
    "df_lr_range(\"lr_range_comparison.csv\")"
   ]
  },
  {
   "cell_type": "code",
   "execution_count": 2,
   "id": "13290a03",
   "metadata": {},
   "outputs": [
    {
     "data": {
      "text/plain": [
       "<matplotlib.legend.Legend at 0x238042cad90>"
      ]
     },
     "execution_count": 2,
     "metadata": {},
     "output_type": "execute_result"
    },
    {
     "data": {
      "image/png": "[encoded data removed]",
      "text/plain": [
       "<Figure size 432x288 with 1 Axes>"
      ]
     },
     "metadata": {
      "needs_background": "light"
     },
     "output_type": "display_data"
    }
   ],
   "source": [
    "# df_lr_range = pd.read_csv(\"lr_range_comparison.csv\")\n",
    "plt.plot(df_lr_range.loc[df_lr_range[\"optim\"]==\"adam\", \"lr\"], df_lr_range.loc[df_lr_range[\"optim\"]==\"adam\", \"loss\"], label=\"adam\")\n",
    "plt.plot(df_lr_range.loc[df_lr_range[\"optim\"]==\"sgd\", \"lr\"], df_lr_range.loc[df_lr_range[\"optim\"]==\"sgd\", \"loss\"], label=\"sgd\")\n",
    "plt.xscale(\"log\")\n",
    "plt.ylim([-0.1, 10])\n",
    "plt.legend()"
   ]
  },
  {
   "cell_type": "markdown",
   "id": "ae6bb798",
   "metadata": {},
   "source": [
    "## Optimizer"
   ]
  },
  {
   "cell_type": "code",
   "execution_count": null,
   "id": "2a8bc951",
   "metadata": {},
   "outputs": [],
   "source": [
    "df_optim = pd.DataFrame(columns=[\"acc\", \"optim\", \"config\"])"
   ]
  },
  {
   "cell_type": "markdown",
   "id": "d692c9be",
   "metadata": {},
   "source": [
    "### Optimize Adam"
   ]
  },
  {
   "cell_type": "code",
   "execution_count": null,
   "id": "6e73d5e7",
   "metadata": {},
   "outputs": [],
   "source": [
    "params = {\n",
    "    \"lr\": [1e-2, 5e-3],\n",
    "    \"weight_decay\": [1e-5, 1e-4, 1e-3]\n",
    "}"
   ]
  },
  {
   "cell_type": "code",
   "execution_count": null,
   "id": "24a22e09",
   "metadata": {},
   "outputs": [],
   "source": [
    "loss_fn = nn.CrossEntropyLoss()\n",
    "\n",
    "for param in tqdm(ParameterGrid(params)):\n",
    "    rn50 = torch.hub.load(\"pytorch/vision:v0.10.0\", \"resnet50\", pretrained=False).to(device)\n",
    "    optimizer = torch.optim.Adam(rn50.parameters(), **param)\n",
    "    scheduler = torch.optim.lr_scheduler.OneCycleLR(optimizer, max_lr=param[\"lr\"], epochs=EPOCHS,\n",
    "                                                    steps_per_epoch=len(train_dl), pct_start=0.3,\n",
    "                                                    cycle_momentum=False, div_factor=5, final_div_factor=1e3)\n",
    "    torch.manual_seed(20)\n",
    "    \n",
    "    for _ in range(EPOCHS):\n",
    "        for data in train_dl:\n",
    "            i, l = data\n",
    "            i, l = i.to(device), l.to(device)\n",
    "            optimizer.zero_grad()\n",
    "            o = rn50(i)\n",
    "            loss = loss_fn(o, l)\n",
    "            loss.backward()\n",
    "            optimizer.step()\n",
    "            scheduler.step()\n",
    "            \n",
    "    df_optim.loc[len(df_optim)] = [test_accuracy(rn50, test_dl, device), \"adam\", str(param)]"
   ]
  },
  {
   "cell_type": "markdown",
   "id": "1753a782",
   "metadata": {},
   "source": [
    "### Optimize SGD"
   ]
  },
  {
   "cell_type": "code",
   "execution_count": null,
   "id": "7797f348",
   "metadata": {},
   "outputs": [],
   "source": [
    "params = {\n",
    "    \"lr\": [1e-2],\n",
    "    \"weight_decay\": [1e-4, 1e-3, 1e-2, 0],\n",
    "    \"momentum\": [0.9]\n",
    "}"
   ]
  },
  {
   "cell_type": "code",
   "execution_count": null,
   "id": "91d9d6e1",
   "metadata": {},
   "outputs": [],
   "source": [
    "loss_fn = nn.CrossEntropyLoss()\n",
    "\n",
    "for param in tqdm(ParameterGrid(params)):\n",
    "    rn50 = torch.hub.load(\"pytorch/vision:v0.10.0\", \"resnet50\", pretrained=False).to(device)\n",
    "    optimizer = torch.optim.SGD(rn50.parameters(), **param)\n",
    "    scheduler = torch.optim.lr_scheduler.OneCycleLR(optimizer, max_lr=param[\"lr\"], epochs=EPOCHS,\n",
    "                                                    steps_per_epoch=len(train_dl), pct_start=0.3,\n",
    "                                                    cycle_momentum=False, div_factor=5, final_div_factor=1e3)\n",
    "    torch.manual_seed(20)\n",
    "    \n",
    "    for _ in range(EPOCHS):\n",
    "        for data in train_dl:\n",
    "            i, l = data\n",
    "            i, l = i.to(device), l.to(device)\n",
    "            optimizer.zero_grad()\n",
    "            o = rn50(i)\n",
    "            loss = loss_fn(o, l)\n",
    "            loss.backward()\n",
    "            optimizer.step()\n",
    "            scheduler.step()\n",
    "            \n",
    "    df_optim.loc[len(df_optim)] = [test_accuracy(rn50, test_dl, device), \"sgd\", str(param)]"
   ]
  },
  {
   "cell_type": "markdown",
   "id": "d53a25ef",
   "metadata": {},
   "source": [
    "### Comparison"
   ]
  },
  {
   "cell_type": "code",
   "execution_count": null,
   "id": "e907a282",
   "metadata": {},
   "outputs": [],
   "source": [
    "df_optim.to_csv(\"optim_comparison.csv\")"
   ]
  },
  {
   "cell_type": "code",
   "execution_count": 3,
   "id": "64567b9d",
   "metadata": {},
   "outputs": [
    {
     "data": {
      "text/plain": [
       "<AxesSubplot:xlabel='optim', ylabel='acc'>"
      ]
     },
     "execution_count": 3,
     "metadata": {},
     "output_type": "execute_result"
    },
    {
     "data": {
      "image/png": "[encoded data removed]",
      "text/plain": [
       "<Figure size 432x288 with 1 Axes>"
      ]
     },
     "metadata": {
      "needs_background": "light"
     },
     "output_type": "display_data"
    }
   ],
   "source": [
    "# df_optim = pd.read_csv(\"optim_comparison.csv\")\n",
    "sns.boxplot(data=df_optim, x=\"optim\", y=\"acc\")"
   ]
  },
  {
   "cell_type": "code",
   "execution_count": 4,
   "id": "f995c8f8",
   "metadata": {},
   "outputs": [
    {
     "name": "stdout",
     "output_type": "stream",
     "text": [
      "adam best: acc=0.82024 config={'lr': 0.005, 'weight_decay': 0.001}\n",
      "adam second best: acc=0.81472 config={'lr': 0.005, 'weight_decay': 0.0001}\n",
      "sgd best: acc=0.75684 config={'lr': 0.01, 'momentum': 0.9, 'weight_decay': 0.01}\n",
      "sgd second best: acc=0.63014 config={'lr': 0.01, 'momentum': 0.9, 'weight_decay': 0.001}\n"
     ]
    }
   ],
   "source": [
    "adam = df_optim.loc[df_optim[\"optim\"]==\"adam\"]\n",
    "adam = adam.sort_values([\"acc\", \"optim\", \"config\"], ascending=False)\n",
    "sgd = df_optim.loc[df_optim[\"optim\"]==\"sgd\"]\n",
    "sgd = sgd.sort_values([\"acc\", \"optim\", \"config\"], ascending=False)\n",
    "\n",
    "print(f\"adam best: acc={adam.iloc[0]['acc']} config={adam.iloc[0]['config']}\")\n",
    "print(f\"adam second best: acc={adam.iloc[1]['acc']} config={adam.iloc[1]['config']}\")\n",
    "print(f\"sgd best: acc={sgd.iloc[0]['acc']} config={sgd.iloc[0]['config']}\")\n",
    "print(f\"sgd second best: acc={sgd.iloc[1]['acc']} config={sgd.iloc[1]['config']}\")"
   ]
  },
  {
   "cell_type": "markdown",
   "id": "c59889a8",
   "metadata": {},
   "source": [
    "## Gradient clipping"
   ]
  },
  {
   "cell_type": "code",
   "execution_count": null,
   "id": "13ed4601",
   "metadata": {},
   "outputs": [],
   "source": [
    "df_clip = pd.DataFrame(columns=[\"acc\", \"optim\", \"clip_value\"])"
   ]
  },
  {
   "cell_type": "markdown",
   "id": "d6823cb0",
   "metadata": {},
   "source": [
    "### Adam best"
   ]
  },
  {
   "cell_type": "code",
   "execution_count": null,
   "id": "b22b8d55",
   "metadata": {},
   "outputs": [],
   "source": [
    "loss_fn = nn.CrossEntropyLoss()\n",
    "\n",
    "for cv in tqdm([1e-1, 1e-2]):\n",
    "    rn50 = torch.hub.load(\"pytorch/vision:v0.10.0\", \"resnet50\", pretrained=False).to(device)\n",
    "    optimizer = torch.optim.Adam(rn50.parameters(), lr=5e-3, weight_decay=1e-3)\n",
    "    scheduler = torch.optim.lr_scheduler.OneCycleLR(optimizer, max_lr=5e-3, epochs=EPOCHS,\n",
    "                                                    steps_per_epoch=len(train_dl), pct_start=0.3,\n",
    "                                                    cycle_momentum=False, div_factor=5, final_div_factor=1e3)\n",
    "    torch.manual_seed(20)\n",
    "    \n",
    "    for _ in range(EPOCHS):\n",
    "        for data in train_dl:\n",
    "            i, l = data\n",
    "            i, l = i.to(device), l.to(device)\n",
    "            optimizer.zero_grad()\n",
    "            o = rn50(i)\n",
    "            loss = loss_fn(o, l)\n",
    "            loss.backward()\n",
    "            nn.utils.clip_grad_value_(rn50.parameters(), cv)\n",
    "            optimizer.step()\n",
    "            scheduler.step()\n",
    "            \n",
    "    df_clip.loc[len(df_clip)] = [test_accuracy(rn50, test_dl, device), \"adam\", cv]"
   ]
  },
  {
   "cell_type": "markdown",
   "id": "30cc75bb",
   "metadata": {},
   "source": [
    "### SDG best"
   ]
  },
  {
   "cell_type": "code",
   "execution_count": null,
   "id": "16d2fb17",
   "metadata": {},
   "outputs": [],
   "source": [
    "loss_fn = nn.CrossEntropyLoss()\n",
    "\n",
    "for cv in tqdm([1e-1, 1e-2]):\n",
    "    rn50 = torch.hub.load(\"pytorch/vision:v0.10.0\", \"resnet50\", pretrained=False).to(device)\n",
    "    optimizer = torch.optim.SGD(rn50.parameters(), lr=1e-2, weight_decay=1e-2, momentum=0.9)\n",
    "    scheduler = torch.optim.lr_scheduler.OneCycleLR(optimizer, max_lr=1e-2, epochs=EPOCHS,\n",
    "                                                    steps_per_epoch=len(train_dl), pct_start=0.3,\n",
    "                                                    cycle_momentum=False, div_factor=5, final_div_factor=1e3)\n",
    "    torch.manual_seed(20)\n",
    "    \n",
    "    for _ in range(EPOCHS):\n",
    "        for data in train_dl:\n",
    "            i, l = data\n",
    "            i, l = i.to(device), l.to(device)\n",
    "            optimizer.zero_grad()\n",
    "            o = rn50(i)\n",
    "            loss = loss_fn(o, l)\n",
    "            loss.backward()\n",
    "            nn.utils.clip_grad_norm_(rn50.parameters(), cv)\n",
    "            optimizer.step()\n",
    "            scheduler.step()\n",
    "            \n",
    "    df_clip.loc[len(df_clip)] = [test_accuracy(rn50, test_dl, device), \"sgd\", cv]"
   ]
  },
  {
   "cell_type": "markdown",
   "id": "1c5c1d2d",
   "metadata": {},
   "source": [
    "### Comparison"
   ]
  },
  {
   "cell_type": "code",
   "execution_count": null,
   "id": "24511d26",
   "metadata": {},
   "outputs": [],
   "source": [
    "df_clip.to_csv(\"clip_comparison.csv\")"
   ]
  },
  {
   "cell_type": "code",
   "execution_count": 8,
   "id": "97be169e",
   "metadata": {},
   "outputs": [
    {
     "data": {
      "text/plain": [
       "<matplotlib.legend.Legend at 0x23809f44730>"
      ]
     },
     "execution_count": 8,
     "metadata": {},
     "output_type": "execute_result"
    },
    {
     "data": {
      "image/png": "[encoded data removed]",
      "text/plain": [
       "<Figure size 432x288 with 1 Axes>"
      ]
     },
     "metadata": {
      "needs_background": "light"
     },
     "output_type": "display_data"
    }
   ],
   "source": [
    "# df_clip = pd.read_csv(\"clip_comparison.csv\")\n",
    "plt.scatter(df_clip.loc[df_clip[\"optim\"]==\"adam\", \"clip_value\"], df_clip.loc[df_clip[\"optim\"]==\"adam\", \"acc\"], label=\"adam best\")\n",
    "plt.scatter(df_clip.loc[df_clip[\"optim\"]==\"sgd\", \"clip_value\"], df_clip.loc[df_clip[\"optim\"]==\"sgd\", \"acc\"], label=\"sgd best\")\n",
    "plt.xscale(\"log\")\n",
    "plt.legend()"
   ]
  },
  {
   "cell_type": "markdown",
   "id": "103deec7",
   "metadata": {},
   "source": [
    "## Upper bound"
   ]
  },
  {
   "cell_type": "code",
   "execution_count": null,
   "id": "f1b98d2a",
   "metadata": {},
   "outputs": [],
   "source": [
    "df_bn = pd.DataFrame(columns=[\"acc\", \"loss\"])"
   ]
  },
  {
   "cell_type": "code",
   "execution_count": null,
   "id": "4d438055",
   "metadata": {},
   "outputs": [],
   "source": [
    "loss_fn = nn.CrossEntropyLoss()\n",
    "\n",
    "rn50 = torch.hub.load(\"pytorch/vision:v0.10.0\", \"resnet50\", pretrained=False).to(device)\n",
    "optimizer = torch.optim.Adam(rn50.parameters(), lr=5e-3, weight_decay=1e-3)\n",
    "scheduler = torch.optim.lr_scheduler.OneCycleLR(optimizer, max_lr=1e-2, epochs=EPOCHS,\n",
    "                                                steps_per_epoch=len(train_dl), pct_start=0.3,\n",
    "                                                cycle_momentum=False, div_factor=5, final_div_factor=1e3)\n",
    "torch.manual_seed(20)\n",
    "\n",
    "for _ in range(50):\n",
    "    total_loss = 0\n",
    "    for data in train_dl:\n",
    "        i, l = data\n",
    "        i, l = i.to(device), l.to(device)\n",
    "        optimizer.zero_grad()\n",
    "        o = rn50(i)\n",
    "        loss = loss_fn(o, l)\n",
    "        loss.backward()\n",
    "        nn.utils.clip_grad_norm_(rn50.parameters(), cv)\n",
    "        optimizer.step()\n",
    "        scheduler.step()\n",
    "        total_loss += loss.item()\n",
    "    \n",
    "    df_bn.loc[len(df_bn)] = [test_accuracy(rn50, test_dl, device), total_loss/len(train_dl)]"
   ]
  },
  {
   "cell_type": "code",
   "execution_count": null,
   "id": "d5557f1d",
   "metadata": {},
   "outputs": [],
   "source": [
    "df_bn.to_csv(\"bn_acc_loss.csv\")"
   ]
  },
  {
   "cell_type": "code",
   "execution_count": null,
   "id": "368600e8",
   "metadata": {},
   "outputs": [],
   "source": [
    "df_bf = pd.read_csv(\"bn_acc_loss.csv\")\n",
    "plt.plot(df_bn[\"acc\"], label=\"accuracy\")\n",
    "plt.plot(df_bn[\"loss\"], label=\"locc\")\n",
    "plt.legend()"
   ]
  },
  {
   "cell_type": "markdown",
   "id": "a68aeb20",
   "metadata": {},
   "source": [
    "# Group normalization (GN)"
   ]
  },
  {
   "cell_type": "code",
   "execution_count": null,
   "id": "321d7a4f",
   "metadata": {},
   "outputs": [],
   "source": [
    "get_parameters_cnt(resnet50gn(num_groups=2))"
   ]
  },
  {
   "cell_type": "markdown",
   "id": "e8765e3d",
   "metadata": {},
   "source": [
    "## LR range\n",
    "\n",
    "https://arxiv.org/pdf/1506.01186.pdf  par 3.3"
   ]
  },
  {
   "cell_type": "code",
   "execution_count": null,
   "id": "876d0fa7",
   "metadata": {},
   "outputs": [],
   "source": [
    "df_lr_range = pd.DataFrame(columns=[\"optim\", \"lr\", \"loss\"])"
   ]
  },
  {
   "cell_type": "markdown",
   "id": "1945c424",
   "metadata": {},
   "source": [
    "### Adam"
   ]
  },
  {
   "cell_type": "code",
   "execution_count": null,
   "id": "f543adfb",
   "metadata": {},
   "outputs": [],
   "source": [
    "loss_fn = nn.CrossEntropyLoss()\n",
    "\n",
    "rn50 = resnet50gn(num_groups=2).to(device)\n",
    "optimizer = optim.Adam(rn50.parameters(), lr=1e-6, weight_decay=0)\n",
    "scheduler = optim.lr_scheduler.ExponentialLR(optimizer, gamma=1.01)\n",
    "torch.manual_seed(20)\n",
    "for _ in tqdm(range(15)):\n",
    "    for data in train_dl:\n",
    "        i, l = data\n",
    "        i, l = i.to(device), l.to(device)\n",
    "        optimizer.zero_grad()\n",
    "        o = rn50(i)\n",
    "        loss = loss_fn(o, l)\n",
    "        loss.backward()\n",
    "        optimizer.step()\n",
    "        \n",
    "        df_lr_range.loc[len(df_lr_range)] = [\"adam\", scheduler.get_last_lr()[0], loss.item()]\n",
    "        \n",
    "        scheduler.step()"
   ]
  },
  {
   "cell_type": "markdown",
   "id": "d3f66c4c",
   "metadata": {},
   "source": [
    "### SGD"
   ]
  },
  {
   "cell_type": "code",
   "execution_count": null,
   "id": "19c1c73f",
   "metadata": {},
   "outputs": [],
   "source": [
    "loss_fn = nn.CrossEntropyLoss()\n",
    "\n",
    "rn50 = resnet50gn(num_groups=2).to(device)\n",
    "optimizer = optim.SGD(rn50.parameters(), lr=1e-6)\n",
    "scheduler = optim.lr_scheduler.ExponentialLR(optimizer, gamma=1.01)\n",
    "torch.manual_seed(20)\n",
    "for _ in tqdm(range(15)):\n",
    "    for data in train_dl:\n",
    "        i, l = data\n",
    "        i, l = i.to(device), l.to(device)\n",
    "        optimizer.zero_grad()\n",
    "        o = rn50(i)\n",
    "        loss = loss_fn(o, l)\n",
    "        loss.backward()\n",
    "        optimizer.step()\n",
    "        \n",
    "        df_lr_range.loc[len(df_lr_range)] = [\"sgd\", scheduler.get_last_lr()[0], loss.item()]\n",
    "        \n",
    "        scheduler.step()"
   ]
  },
  {
   "cell_type": "markdown",
   "id": "ad2ea1d6",
   "metadata": {},
   "source": [
    "### Comparison"
   ]
  },
  {
   "cell_type": "code",
   "execution_count": null,
   "id": "67c0cdc0",
   "metadata": {},
   "outputs": [],
   "source": [
    "df_lr_range.to_csv(\"gn_lr_range_comparison.csv\")"
   ]
  },
  {
   "cell_type": "code",
   "execution_count": 9,
   "id": "28504f3a",
   "metadata": {},
   "outputs": [
    {
     "data": {
      "text/plain": [
       "<matplotlib.legend.Legend at 0x23878def790>"
      ]
     },
     "execution_count": 9,
     "metadata": {},
     "output_type": "execute_result"
    },
    {
     "data": {
      "image/png": "[encoded data removed]",
      "text/plain": [
       "<Figure size 432x288 with 1 Axes>"
      ]
     },
     "metadata": {
      "needs_background": "light"
     },
     "output_type": "display_data"
    }
   ],
   "source": [
    "# df_lr_range = pd.read_csv(\"gn_lr_range_comparison.csv\")\n",
    "plt.plot(df_lr_range.loc[df_lr_range[\"optim\"]==\"adam\", \"lr\"], df_lr_range.loc[df_lr_range[\"optim\"]==\"adam\", \"loss\"], label=\"adam\")\n",
    "plt.plot(df_lr_range.loc[df_lr_range[\"optim\"]==\"sgd\", \"lr\"], df_lr_range.loc[df_lr_range[\"optim\"]==\"sgd\", \"loss\"], label=\"sgd\")\n",
    "plt.xscale(\"log\")\n",
    "plt.ylim([-0.1, 10])\n",
    "plt.legend()"
   ]
  },
  {
   "cell_type": "markdown",
   "id": "89456539",
   "metadata": {},
   "source": [
    "## Optimizer"
   ]
  },
  {
   "cell_type": "code",
   "execution_count": null,
   "id": "5accb623",
   "metadata": {},
   "outputs": [],
   "source": [
    "df_optim = pd.DataFrame(columns=[\"acc\", \"optim\", \"config\"])"
   ]
  },
  {
   "cell_type": "markdown",
   "id": "188da5a7",
   "metadata": {},
   "source": [
    "### Optimize Adam"
   ]
  },
  {
   "cell_type": "code",
   "execution_count": null,
   "id": "5176a11e",
   "metadata": {},
   "outputs": [],
   "source": [
    "params = {\n",
    "    \"lr\": [5e-2, 1e-2, 5e-3],\n",
    "    \"weight_decay\": [1e-5, 1e-4, 1e-3]\n",
    "}"
   ]
  },
  {
   "cell_type": "code",
   "execution_count": null,
   "id": "06aba519",
   "metadata": {},
   "outputs": [],
   "source": [
    "loss_fn = nn.CrossEntropyLoss()\n",
    "\n",
    "for param in tqdm(ParameterGrid(params)):\n",
    "    rn50 = resnet50gn(num_groups=2).to(device)\n",
    "    optimizer = torch.optim.Adam(rn50.parameters(), **param)\n",
    "    scheduler = torch.optim.lr_scheduler.OneCycleLR(optimizer, max_lr=param[\"lr\"], epochs=EPOCHS,\n",
    "                                                    steps_per_epoch=len(train_dl), pct_start=0.3,\n",
    "                                                    cycle_momentum=False, div_factor=5, final_div_factor=1e3)\n",
    "    torch.manual_seed(20)\n",
    "    \n",
    "    for _ in range(EPOCHS):\n",
    "        for data in train_dl:\n",
    "            i, l = data\n",
    "            i, l = i.to(device), l.to(device)\n",
    "            optimizer.zero_grad()\n",
    "            o = rn50(i)\n",
    "            loss = loss_fn(o, l)\n",
    "            loss.backward()\n",
    "            optimizer.step()\n",
    "            scheduler.step()\n",
    "            \n",
    "    df_optim.loc[len(df_optim)] = [test_accuracy(rn50, test_dl, device), \"adam\", str(param)]"
   ]
  },
  {
   "cell_type": "markdown",
   "id": "c7fc44ee",
   "metadata": {},
   "source": [
    "### Optimize SGD"
   ]
  },
  {
   "cell_type": "code",
   "execution_count": null,
   "id": "49f44cb6",
   "metadata": {},
   "outputs": [],
   "source": [
    "params = {\n",
    "    \"lr\": [1e-2],\n",
    "    \"weight_decay\": [1e-4, 1e-3, 1e-2, 0],\n",
    "    \"momentum\": [0.9]\n",
    "}"
   ]
  },
  {
   "cell_type": "code",
   "execution_count": null,
   "id": "8622290a",
   "metadata": {},
   "outputs": [],
   "source": [
    "loss_fn = nn.CrossEntropyLoss()\n",
    "\n",
    "for param in tqdm(ParameterGrid(params)):\n",
    "    rn50 = torch.hub.load(\"pytorch/vision:v0.10.0\", \"resnet50\", pretrained=False).to(device)\n",
    "    optimizer = torch.optim.SGD(rn50.parameters(), **param)\n",
    "    scheduler = torch.optim.lr_scheduler.OneCycleLR(optimizer, max_lr=param[\"lr\"], epochs=EPOCHS,\n",
    "                                                    steps_per_epoch=len(train_dl), pct_start=0.3,\n",
    "                                                    cycle_momentum=False, div_factor=5, final_div_factor=1e3)\n",
    "    torch.manual_seed(20)\n",
    "    \n",
    "    for _ in range(EPOCHS):\n",
    "        for data in train_dl:\n",
    "            i, l = data\n",
    "            i, l = i.to(device), l.to(device)\n",
    "            optimizer.zero_grad()\n",
    "            o = rn50(i)\n",
    "            loss = loss_fn(o, l)\n",
    "            loss.backward()\n",
    "            optimizer.step()\n",
    "            scheduler.step()\n",
    "            \n",
    "    df_optim.loc[len(df_optim)] = [test_accuracy(rn50, test_dl, device), \"sgd\", str(param)]"
   ]
  },
  {
   "cell_type": "markdown",
   "id": "5edad2c0",
   "metadata": {},
   "source": [
    "### Comparison"
   ]
  },
  {
   "cell_type": "code",
   "execution_count": null,
   "id": "7a323694",
   "metadata": {},
   "outputs": [],
   "source": [
    "df_optim.to_csv(\"gn_optim_comparison.csv\")"
   ]
  },
  {
   "cell_type": "code",
   "execution_count": null,
   "id": "aacb43ab",
   "metadata": {},
   "outputs": [],
   "source": [
    "df_optim = pd.read_csv(\"gn_optim_comparison.csv\")\n",
    "sns.boxplot(data=df_optim, x=\"optim\", y=\"acc\")"
   ]
  },
  {
   "cell_type": "code",
   "execution_count": null,
   "id": "a6372a5b",
   "metadata": {},
   "outputs": [],
   "source": [
    "adam = df_optim.loc[df_optim[\"optim\"]==\"adam\"]\n",
    "adam = adam.sort_values([\"acc\", \"optim\", \"config\"], ascending=False)\n",
    "sgd = df_optim.loc[df_optim[\"optim\"]==\"sgd\"]\n",
    "sgd = sgd.sort_values([\"acc\", \"optim\", \"config\"], ascending=False)\n",
    "\n",
    "print(f\"adam best: acc={adam.iloc[0]['acc']} config={adam.iloc[0]['config']}\")\n",
    "print(f\"adam second best: acc={adam.iloc[1]['acc']} config={adam.iloc[1]['config']}\")\n",
    "print(f\"sgd best: acc={sgd.iloc[0]['acc']} config={sgd.iloc[0]['config']}\")\n",
    "print(f\"sgd second best: acc={sgd.iloc[1]['acc']} config={sgd.iloc[1]['config']}\")"
   ]
  },
  {
   "cell_type": "markdown",
   "id": "1374f6e4",
   "metadata": {},
   "source": [
    "## Gradient clipping"
   ]
  },
  {
   "cell_type": "code",
   "execution_count": null,
   "id": "de9a5dd8",
   "metadata": {},
   "outputs": [],
   "source": [
    "df_clip = pd.DataFrame(columns=[\"acc\", \"optim\", \"clip_value\"])"
   ]
  },
  {
   "cell_type": "markdown",
   "id": "57f057ec",
   "metadata": {},
   "source": [
    "### Adam best"
   ]
  },
  {
   "cell_type": "code",
   "execution_count": null,
   "id": "080168fe",
   "metadata": {},
   "outputs": [],
   "source": [
    "loss_fn = nn.CrossEntropyLoss()\n",
    "\n",
    "for cv in tqdm([1e-1, 1e-2]):\n",
    "    rn50 = torch.hub.load(\"pytorch/vision:v0.10.0\", \"resnet50\", pretrained=False).to(device)\n",
    "    # TODO: set lr, weight_decay, max_lr(=lr) according to results\n",
    "    optimizer = torch.optim.Adam(rn50.parameters(), lr=?, weight_decay=?)\n",
    "    scheduler = torch.optim.lr_scheduler.OneCycleLR(optimizer, max_lr=?, epochs=EPOCHS,\n",
    "                                                    steps_per_epoch=len(train_dl), pct_start=0.3,\n",
    "                                                    cycle_momentum=False, div_factor=5, final_div_factor=1e3)\n",
    "    torch.manual_seed(20)\n",
    "    \n",
    "    for _ in range(EPOCHS):\n",
    "        for data in train_dl:\n",
    "            i, l = data\n",
    "            i, l = i.to(device), l.to(device)\n",
    "            optimizer.zero_grad()\n",
    "            o = rn50(i)\n",
    "            loss = loss_fn(o, l)\n",
    "            loss.backward()\n",
    "            nn.utils.clip_grad_value_(rn50.parameters(), cv)\n",
    "            optimizer.step()\n",
    "            scheduler.step()\n",
    "            \n",
    "    df_clip.loc[len(df_clip)] = [test_accuracy(rn50, test_dl, device), \"adam\", cv]"
   ]
  },
  {
   "cell_type": "markdown",
   "id": "96505755",
   "metadata": {},
   "source": [
    "### SGD best"
   ]
  },
  {
   "cell_type": "code",
   "execution_count": null,
   "id": "4faef9bd",
   "metadata": {},
   "outputs": [],
   "source": [
    "loss_fn = nn.CrossEntropyLoss()\n",
    "\n",
    "for cv in tqdm([1e-1, 1e-2]):\n",
    "    rn50 = torch.hub.load(\"pytorch/vision:v0.10.0\", \"resnet50\", pretrained=False).to(device)\n",
    "    # TODO: set lr, weight_decay, momentum, max_lr(=lr) according to results\n",
    "    optimizer = torch.optim.SGD(rn50.parameters(), lr=?, weight_decay=?, momentum=?)\n",
    "    scheduler = torch.optim.lr_scheduler.OneCycleLR(optimizer, max_lr=?, epochs=EPOCHS,\n",
    "                                                    steps_per_epoch=len(train_dl), pct_start=0.3,\n",
    "                                                    cycle_momentum=False, div_factor=5, final_div_factor=1e3)\n",
    "    torch.manual_seed(20)\n",
    "    \n",
    "    for _ in range(EPOCHS):\n",
    "        for data in train_dl:\n",
    "            i, l = data\n",
    "            i, l = i.to(device), l.to(device)\n",
    "            optimizer.zero_grad()\n",
    "            o = rn50(i)\n",
    "            loss = loss_fn(o, l)\n",
    "            loss.backward()\n",
    "            nn.utils.clip_grad_norm_(rn50.parameters(), cv)\n",
    "            optimizer.step()\n",
    "            scheduler.step()\n",
    "            \n",
    "    df_clip.loc[len(df_clip)] = [test_accuracy(rn50, test_dl, device), \"sgd\", cv]"
   ]
  },
  {
   "cell_type": "markdown",
   "id": "ea511f4d",
   "metadata": {},
   "source": [
    "### Comparison"
   ]
  },
  {
   "cell_type": "code",
   "execution_count": null,
   "id": "26770fa6",
   "metadata": {},
   "outputs": [],
   "source": [
    "df_clip.to_csv(\"gn_clip_comparison.csv\")"
   ]
  },
  {
   "cell_type": "code",
   "execution_count": null,
   "id": "3574978f",
   "metadata": {},
   "outputs": [],
   "source": [
    "df_clip = pd.read_csv(\"gn_clip_comparison.csv\")\n",
    "plt.scatter([1e-1, 1e-2], df_clip.loc[df_clip[\"optim\"]==\"adam1\", \"acc\"], label=\"adam\")\n",
    "plt.scatter([1e-1, 1e-2], df_clip.loc[df_clip[\"optim\"]==\"sgd\", \"acc\"], label=\"sgd\")\n",
    "plt.xscale(\"log\")"
   ]
  },
  {
   "cell_type": "markdown",
   "id": "5b6bb2a9",
   "metadata": {},
   "source": [
    "## Upper bound"
   ]
  },
  {
   "cell_type": "code",
   "execution_count": null,
   "id": "58c4411d",
   "metadata": {},
   "outputs": [],
   "source": [
    "df_gn = pd.DataFrame(columns=[\"acc\", \"loss\"])"
   ]
  },
  {
   "cell_type": "code",
   "execution_count": null,
   "id": "4ef80b9a",
   "metadata": {},
   "outputs": [],
   "source": [
    "loss_fn = nn.CrossEntropyLoss()\n",
    "\n",
    "rn50 = resnet50gn(num_groups=2).to(device)\n",
    "optimizer = torch.optim.Adam(rn50.parameters(), lr=5e-3, weight_decay=1e-3)\n",
    "scheduler = torch.optim.lr_scheduler.OneCycleLR(optimizer, max_lr=1e-2, epochs=EPOCHS,\n",
    "                                                steps_per_epoch=len(train_dl), pct_start=0.3,\n",
    "                                                cycle_momentum=False, div_factor=5, final_div_factor=1e3)\n",
    "torch.manual_seed(20)\n",
    "\n",
    "for _ in range(50):\n",
    "    total_loss = 0\n",
    "    for data in train_dl:\n",
    "        i, l = data\n",
    "        i, l = i.to(device), l.to(device)\n",
    "        optimizer.zero_grad()\n",
    "        o = rn50(i)\n",
    "        loss = loss_fn(o, l)\n",
    "        loss.backward()\n",
    "        nn.utils.clip_grad_norm_(rn50.parameters(), cv)\n",
    "        optimizer.step()\n",
    "        scheduler.step()\n",
    "        total_loss += loss.item()\n",
    "    \n",
    "    df_gn.loc[len(df_gn)] = [test_accuracy(rn50, test_dl, device), total_loss/len(train_dl)]"
   ]
  },
  {
   "cell_type": "code",
   "execution_count": null,
   "id": "2f25d4f0",
   "metadata": {},
   "outputs": [],
   "source": [
    "df_bn.to_csv(\"gn_acc_loss.csv\")"
   ]
  },
  {
   "cell_type": "code",
   "execution_count": null,
   "id": "41f3b018",
   "metadata": {},
   "outputs": [],
   "source": [
    "df_bf = pd.read_csv(\"gn_acc_loss.csv\")\n",
    "plt.plot(df_bn[\"acc\"], label=\"accuracy\")\n",
    "plt.plot(df_bn[\"loss\"], label=\"locc\")\n",
    "plt.legend()"
   ]
  }
 ],
 "metadata": {
  "kernelspec": {
   "display_name": "Python 3",
   "language": "python",
   "name": "python3"
  },
  "language_info": {
   "codemirror_mode": {
    "name": "ipython",
    "version": 3
   },
   "file_extension": ".py",
   "mimetype": "text/x-python",
   "name": "python",
   "nbconvert_exporter": "python",
   "pygments_lexer": "ipython3",
   "version": "3.8.8"
  }
 },
 "nbformat": 4,
 "nbformat_minor": 5
}
