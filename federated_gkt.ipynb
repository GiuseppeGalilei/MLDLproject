{
  "nbformat": 4,
  "nbformat_minor": 0,
  "metadata": {
    "colab": {
      "name": "FedGKT.ipynb",
      "provenance": [],
      "collapsed_sections": []
    },
    "kernelspec": {
      "name": "python3",
      "display_name": "Python 3"
    },
    "language_info": {
      "name": "python"
    },
    "accelerator": "GPU"
  },
  "cells": [
    {
      "cell_type": "code",
      "execution_count": 11,
      "metadata": {
        "id": "oRmP8yqGc9mX"
      },
      "outputs": [],
      "source": [
        "import torch\n",
        "from fedgkt_trainers import GKTClientTrainer, GKTServerTrainer\n",
        "from resnet_gkt_server import ResNet49\n",
        "from resnet_gkt_client import ResNet8\n",
        "from fedavg_utils import get_datasets, get_user_groups\n",
        "import numpy as np\n",
        "from reproducibility import make_it_reproducible\n",
        "import pandas as pd"
      ]
    },
    {
      "cell_type": "code",
      "source": [
        "make_it_reproducible(seed=0)"
      ],
      "metadata": {
        "id": "d_HS8-biwcXb"
      },
      "execution_count": 2,
      "outputs": []
    },
    {
      "cell_type": "code",
      "source": [
        "client_number = 100\n",
        "norm_type = 'Batch Norm'\n",
        "participation_frac = 0.1\n",
        "iid = True\n",
        "unbalanced = False\n",
        "\n",
        "args_server = {\n",
        "    'temperature': 3,\n",
        "    'epochs_server': 10,\n",
        "    'alpha': 0.5\n",
        "}\n",
        "\n",
        "args_client={\n",
        "    'temperature': 3,\n",
        "    'epochs_client': 1,\n",
        "    'alpha': 0.5\n",
        "}\n",
        "\n",
        "communication_rounds = 10"
      ],
      "metadata": {
        "id": "rgzvKsmbVuRe"
      },
      "execution_count": 3,
      "outputs": []
    },
    {
      "cell_type": "code",
      "source": [
        "device = 'cuda' if torch.cuda.is_available else 'cpu'"
      ],
      "metadata": {
        "id": "yZ3fUSSKVzea"
      },
      "execution_count": 4,
      "outputs": []
    },
    {
      "cell_type": "code",
      "source": [
        "#SERVER\n",
        "server_trainer = GKTServerTrainer(client_number, device, ResNet49(norm_type), args_server)"
      ],
      "metadata": {
        "id": "U2iycihOVogp"
      },
      "execution_count": 5,
      "outputs": []
    },
    {
      "cell_type": "code",
      "source": [
        "#CLIENT\n",
        "\n",
        "trainset, testset = get_datasets()\n",
        "user_groups = get_user_groups(trainset, iid=iid, unbalanced=unbalanced, tot_users=client_number)\n",
        "\n",
        "clients = []\n",
        "for client_idx in range(client_number):\n",
        "  clients.append(GKTClientTrainer(client_idx, trainset, testset,\n",
        "                                  user_groups[client_idx], device, ResNet8(norm_type), args_client))"
      ],
      "metadata": {
        "colab": {
          "base_uri": "https://localhost:8080/"
        },
        "id": "WJcSeruNkSBb",
        "outputId": "17a05582-b831-4b88-be6d-d8bdfde0fa55"
      },
      "execution_count": 6,
      "outputs": [
        {
          "output_type": "stream",
          "name": "stdout",
          "text": [
            "Files already downloaded and verified\n",
            "Files already downloaded and verified\n"
          ]
        }
      ]
    },
    {
      "cell_type": "code",
      "source": [
        "for round in range(communication_rounds):\n",
        "  print(\"Communication round: \", round+1)\n",
        "  m = max(int(participation_frac*client_number), 1)\n",
        "  chosen_users = np.random.choice(range(client_number), m, replace=False)\n",
        "  print(f\"Chosen users: {chosen_users}\")\n",
        "  for idx in chosen_users:\n",
        "    extracted_features_dict, extracted_logits_dict, labels_dict,\\\n",
        "    extracted_features_dict_test, labels_dict_test = clients[idx].train()\n",
        "\n",
        "    server_trainer.add_local_trained_result(idx, extracted_features_dict, extracted_logits_dict, labels_dict,\\\n",
        "    extracted_features_dict_test, labels_dict_test)\n",
        "\n",
        "  server_trainer.train(round)\n",
        "\n",
        "  for idx in chosen_users:\n",
        "    global_logits = server_trainer.get_global_logits(idx)\n",
        "    clients[idx].update_large_model_logits(global_logits)\n",
        "\n",
        "\n",
        "train_metrics, test_metrics = server_trainer.get_metrics_lists()"
      ],
      "metadata": {
        "colab": {
          "base_uri": "https://localhost:8080/"
        },
        "id": "tvMQpb_BoDbJ",
        "outputId": "483210a0-6156-4e64-c57b-7fb578831c04"
      },
      "execution_count": 7,
      "outputs": [
        {
          "output_type": "stream",
          "name": "stdout",
          "text": [
            "Communication round:  1\n",
            "Chosen users: [18]\n",
            "client 18 - Update Epoch: 0 [0/4 (0%)]\tLoss: 2.443947\n",
            "client 18 - Update Epoch: 0 [128/4 (25%)]\tLoss: 2.388289\n",
            "client 18 - Update Epoch: 0 [256/4 (50%)]\tLoss: 2.439843\n",
            "client 18 - Update Epoch: 0 [348/4 (75%)]\tLoss: 2.379775\n",
            "{'train/loss': 1.0299100577831268, 'train/accuracy': 67.21443939208984, 'epoch': 1}\n",
            "{'test/loss': 2.298644741879234, 'test/accuracy': 11.530854430379748, 'epoch': 1}\n"
          ]
        }
      ]
    },
    {
      "cell_type": "code",
      "source": [
        "df = pd.DataFrame(train_metrics)\n",
        "df.to_csv(f\"train_{norm_type}_{'iid' if iid else 'noniid'}_{'unbalanced' if unbalanced else 'balanced'}.csv\", index=False)"
      ],
      "metadata": {
        "id": "DkV8CkKo-Fvp"
      },
      "execution_count": 13,
      "outputs": []
    },
    {
      "cell_type": "code",
      "source": [
        "df = pd.DataFrame(test_metrics)\n",
        "df.to_csv(f\"test_{norm_type}_{'iid' if iid else 'noniid'}_{'unbalanced' if unbalanced else 'balanced'}.csv\", index=False)"
      ],
      "metadata": {
        "id": "z8laz318TfZ6"
      },
      "execution_count": null,
      "outputs": []
    }
  ]
}